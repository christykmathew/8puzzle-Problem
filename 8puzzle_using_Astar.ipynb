{
  "nbformat": 4,
  "nbformat_minor": 0,
  "metadata": {
    "colab": {
      "name": "8puzzle using A*.ipynb",
      "provenance": [],
      "collapsed_sections": []
    },
    "kernelspec": {
      "name": "python3",
      "display_name": "Python 3"
    }
  },
  "cells": [
    {
      "cell_type": "code",
      "metadata": {
        "id": "-N4nL99jaiW4",
        "colab_type": "code",
        "colab": {}
      },
      "source": [
        " def draw_board(board, dir):\n",
        "  point = 0\n",
        "  list = []\n",
        "  for i in range (3):\n",
        "    temp = []\n",
        "    for j in range(3):\n",
        "      temp.append(str(board[point]))\n",
        "      point = point + 1\n",
        "    list.append(temp)\n",
        "  print(dir)\n",
        "  for rows in list:\n",
        "    print(' '.join(rows))\n",
        "  print(\"\\n\")"
      ],
      "execution_count": 1,
      "outputs": []
    },
    {
      "cell_type": "code",
      "metadata": {
        "id": "3vxpeQuSuaib",
        "colab_type": "code",
        "colab": {}
      },
      "source": [
        "def cal_heur(list):\n",
        "  count = 0\n",
        "  for i,j in zip(list, goal):\n",
        "    if (i != j):\n",
        "      count = count + 1\n",
        "  return count"
      ],
      "execution_count": 2,
      "outputs": []
    },
    {
      "cell_type": "code",
      "metadata": {
        "id": "WBxlYX7GwDtY",
        "colab_type": "code",
        "colab": {}
      },
      "source": [
        "def solve(g, state, prev_mov):\n",
        "  blank = state.index(0)\n",
        "  print(\"Iteration \",g+1)\n",
        "  h1 = 9999\n",
        "  h2 = 9999\n",
        "  h3 = 9999\n",
        "  h4 = 9999\n",
        "  if (blank - 3 >= 0 and prev_mov != 'up'):\n",
        "    down = list(state)\n",
        "    down[blank] = down[blank - 3]\n",
        "    down[blank-3] = 0\n",
        "    h1 = cal_heur(down)\n",
        "    draw_board(down, 'up')\n",
        "    if (h1 == 0):\n",
        "      print(\"Thus Goal state is reached\")\n",
        "      return \n",
        "  if ((blank + 3) <= 8 and prev_mov != 'down'):\n",
        "    up = list(state)\n",
        "    up[blank] = up[blank + 3]\n",
        "    up[blank + 3] = 0\n",
        "    h2 = cal_heur(up)\n",
        "    draw_board(up, 'down')\n",
        "    if (h2 == 0):\n",
        "      print(\"Thus Goal state is reached\")\n",
        "      return \n",
        "  if ((blank + 1)%3 != 0 and blank + 1 <=8 and prev_mov != 'right'):\n",
        "    left = list(state)\n",
        "    left[blank] = left[blank + 1]\n",
        "    left[blank + 1] = 0\n",
        "    h3 = cal_heur(left)\n",
        "    draw_board(left, 'right')\n",
        "    if (h3 == 0):\n",
        "      print(\"Thus Goal state is reached\")\n",
        "      return \n",
        "  if ((blank - 1)%3 != 2 and blank - 1 >= 0 and prev_mov != 'left'):\n",
        "    right = list(state)\n",
        "    right[blank] = right[blank - 1]\n",
        "    right[blank - 1] = 0\n",
        "    h4 = cal_heur(right)\n",
        "    draw_board(right, 'left')\n",
        "    if (h4 == 0):\n",
        "      print(\"Thus Goal state is reached\")\n",
        "      return \n",
        "  temp = 0\n",
        "  move = 'null'\n",
        "  if (h1 == min(h1,h2,h3,h4)):\n",
        "    temp = list(down)\n",
        "    mov = 'down'\n",
        "  if (h2 == min(h1,h2,h3,h4)):\n",
        "    temp = list(up)\n",
        "    move = 'up'\n",
        "  if (h3 == min(h1,h2,h3,h4)):\n",
        "    temp = list(left)\n",
        "    move = 'left'\n",
        "  if (h4 == min(h1,h2,h3,h4)):\n",
        "    temp = list(right)\n",
        "    move = 'right'\n",
        "  if (temp != 0 and g < 200):\n",
        "    draw_board(temp, 'Least cost path')\n",
        "    solve(g+1, temp, move)\n",
        "  if (temp == 0 or g >=200):\n",
        "    print(\"Unsolvable\")\n",
        "    return "
      ],
      "execution_count": 3,
      "outputs": []
    },
    {
      "cell_type": "code",
      "metadata": {
        "id": "e_cEkxMzX1kx",
        "colab_type": "code",
        "colab": {
          "base_uri": "https://localhost:8080/",
          "height": 187
        },
        "outputId": "59a5d5e1-3114-450f-f2ba-0ab6dc0322dc"
      },
      "source": [
        "goal = []\n",
        "start = []\n",
        "# print(\"Enter the Goal state\")\n",
        "# for i in range (9):\n",
        "#   goal.append(int(input()))\n",
        "#for ideal goal state\n",
        "for i in range (1,9):\n",
        "  goal.append(i)\n",
        "goal.append(0)\n",
        "print(\"Enter the start State\")\n",
        "for i in range (9):\n",
        "  start.append(int(input()))\n"
      ],
      "execution_count": 4,
      "outputs": [
        {
          "output_type": "stream",
          "text": [
            "Enter the start State\n",
            "1\n",
            "2\n",
            "3\n",
            "4\n",
            "0\n",
            "5\n",
            "7\n",
            "8\n",
            "6\n"
          ],
          "name": "stdout"
        }
      ]
    },
    {
      "cell_type": "code",
      "metadata": {
        "id": "0mwKgaXwX2YA",
        "colab_type": "code",
        "colab": {
          "base_uri": "https://localhost:8080/",
          "height": 918
        },
        "outputId": "013044bd-cdff-4e20-c11d-d214657f4136"
      },
      "source": [
        "draw_board(start, 'Initial state')\n",
        "print(\"\\n\")\n",
        "solve(0, start, 'none')"
      ],
      "execution_count": 5,
      "outputs": [
        {
          "output_type": "stream",
          "text": [
            "Initial state\n",
            "1 2 3\n",
            "4 0 5\n",
            "7 8 6\n",
            "\n",
            "\n",
            "\n",
            "\n",
            "Iteration  1\n",
            "up\n",
            "1 0 3\n",
            "4 2 5\n",
            "7 8 6\n",
            "\n",
            "\n",
            "down\n",
            "1 2 3\n",
            "4 8 5\n",
            "7 0 6\n",
            "\n",
            "\n",
            "right\n",
            "1 2 3\n",
            "4 5 0\n",
            "7 8 6\n",
            "\n",
            "\n",
            "left\n",
            "1 2 3\n",
            "0 4 5\n",
            "7 8 6\n",
            "\n",
            "\n",
            "Least cost path\n",
            "1 2 3\n",
            "4 5 0\n",
            "7 8 6\n",
            "\n",
            "\n",
            "Iteration  2\n",
            "up\n",
            "1 2 0\n",
            "4 5 3\n",
            "7 8 6\n",
            "\n",
            "\n",
            "down\n",
            "1 2 3\n",
            "4 5 6\n",
            "7 8 0\n",
            "\n",
            "\n",
            "Thus Goal state is reached\n"
          ],
          "name": "stdout"
        }
      ]
    }
  ]
}